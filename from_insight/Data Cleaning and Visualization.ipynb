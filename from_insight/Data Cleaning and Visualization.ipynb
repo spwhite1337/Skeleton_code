{
 "cells": [
  {
   "cell_type": "markdown",
   "metadata": {},
   "source": [
    "# Data Cleaning Notebook\n",
    "## Things that you'll want to do to pandas data frames a lot\n",
    "\n",
    "* Natalia Zhang wenshuo.zhang@gmail.com\n",
    "* Control-F to find what you need"
   ]
  },
  {
   "cell_type": "code",
   "execution_count": 1,
   "metadata": {},
   "outputs": [],
   "source": [
    "import pandas as pd\n",
    "import numpy as np\n",
    "import seaborn as sns"
   ]
  },
  {
   "cell_type": "markdown",
   "metadata": {},
   "source": [
    "## Frequency counts with NAs"
   ]
  },
  {
   "cell_type": "code",
   "execution_count": null,
   "metadata": {},
   "outputs": [],
   "source": [
    "df.column.value_counts(dropna=False)"
   ]
  },
  {
   "cell_type": "markdown",
   "metadata": {},
   "source": [
    "## Cross-tabs and Pivot Tables    "
   ]
  },
  {
   "cell_type": "code",
   "execution_count": null,
   "metadata": {},
   "outputs": [],
   "source": [
    "pd.crosstab(margins=True, dropna=False, normalize='index') #marginal values, drop NAs, relative frequency?"
   ]
  },
  {
   "cell_type": "code",
   "execution_count": null,
   "metadata": {},
   "outputs": [],
   "source": [
    "df.pivot_table(values=\"seniority\", index=[\"company_id\", \"current\"], aggfunc=np.mean) #values is one thing, but index can be very many, though you won't be able to see everything after a while\n",
    "\n",
    "#aggregate functions include basically any numpy function\n",
    "#probably anything here: https://docs.scipy.org/doc/numpy-1.15.1/reference/routines.statistics.html"
   ]
  },
  {
   "cell_type": "markdown",
   "metadata": {},
   "source": [
    "## Create Dummy Variables in PD\n",
    "aka don't use OHE in sklearn, it's just not worth it"
   ]
  },
  {
   "cell_type": "code",
   "execution_count": null,
   "metadata": {},
   "outputs": [],
   "source": [
    "dummydf = pd.get_dummies(df.categorical_variable)\n",
    "newdf = pd.concat([df, dummydf], axis=1) #R cbind for df"
   ]
  },
  {
   "cell_type": "markdown",
   "metadata": {},
   "source": [
    "## Clean Ill-formatted dates into datetime format"
   ]
  },
  {
   "cell_type": "code",
   "execution_count": null,
   "metadata": {},
   "outputs": [],
   "source": [
    "#are dates in strings with different formats?\n",
    "#Need to return a datetime object?\n",
    "#better hope they're mal-formed in some consistent manner\n",
    "\n",
    "import datetime\n",
    "\n",
    "def formatdt(dt):    \n",
    "    if dt is None:\n",
    "        return np.NaN\n",
    "    elif \"-\" in str(dt): #we're blithely assuming that the other formula is YYYY-MM-DD \n",
    "        return datetime.datetime.date(datetime.datetime.strptime(dt, '%Y-%m-%d'))\n",
    "    elif \".\" in str(dt):\n",
    "        return datetime.datetime.date(datetime.datetime.strptime(dt, '%m.%d.%Y'))"
   ]
  },
  {
   "cell_type": "markdown",
   "metadata": {},
   "source": [
    "## Basic Visualizations\n",
    "\n",
    "This is adapted from Lauren's code."
   ]
  },
  {
   "cell_type": "code",
   "execution_count": null,
   "metadata": {},
   "outputs": [],
   "source": [
    "#Basic plotting\n",
    "sns.set(style='white')\n",
    "sns.set(style='whitegrid', color_codes=True)\n",
    "\n",
    "sns.distplot(df['feature2'])\n",
    "plt.show()\n",
    "\n",
    "sns.distplot(df['feature2'])\n",
    "plt.show()\n",
    "\n",
    "sns.countplot(y='feature3', data=df)\n",
    "plt.show()\n",
    "\n",
    "sns.countplot(y='feature4', data=df)\n",
    "plt.show()"
   ]
  },
  {
   "cell_type": "markdown",
   "metadata": {},
   "source": [
    "## Heatmap of Correlations"
   ]
  },
  {
   "cell_type": "code",
   "execution_count": null,
   "metadata": {},
   "outputs": [],
   "source": [
    "sns.heatmap(ec2features.corr(), annot=False)"
   ]
  },
  {
   "cell_type": "markdown",
   "metadata": {},
   "source": [
    "## Histogram"
   ]
  },
  {
   "cell_type": "code",
   "execution_count": null,
   "metadata": {},
   "outputs": [],
   "source": [
    "pd.hist(columns = X, by = Y, bins = 10)\n",
    "\n",
    "#full options:\n",
    "#pd.hist(column=None, by=None, grid=True, xlabelsize=None, xrot=None, ylabelsize=None, yrot=None, ax=None, sharex=False, sharey=False, figsize=None, layout=None, bins=10)"
   ]
  },
  {
   "cell_type": "markdown",
   "metadata": {},
   "source": [
    "## Overlapping Histogram Function\n",
    "Scott's"
   ]
  },
  {
   "cell_type": "code",
   "execution_count": null,
   "metadata": {},
   "outputs": [],
   "source": [
    "fig, ax = plt.subplots()\n",
    "sns.distplot(df.col.loc(filter) & grouping_var = value,ax=ax)\n",
    "sns.distplot(df.col.loc(filter) & grouping_var = value+1,ax=ax)"
   ]
  },
  {
   "cell_type": "markdown",
   "metadata": {},
   "source": [
    "Alternately, in SNS (I think this is Inh's)"
   ]
  },
  {
   "cell_type": "code",
   "execution_count": null,
   "metadata": {},
   "outputs": [],
   "source": [
    "sns.distplot(df[df['col_name'] == x]['target_var'], kde=True, rug=False, label = \"Label1\")\n",
    "sns.distplot(df[df['col_name'] == y]['target_var'], kde=True, rug=False, label = \"Label2\")\n",
    "plt.legend()\n",
    "plt.show()"
   ]
  },
  {
   "cell_type": "markdown",
   "metadata": {},
   "source": [
    "## Boxplot"
   ]
  },
  {
   "cell_type": "markdown",
   "metadata": {},
   "source": [
    "Inline Pandas method"
   ]
  },
  {
   "cell_type": "code",
   "execution_count": null,
   "metadata": {},
   "outputs": [],
   "source": [
    "pd.boxplot(column=X, by=Y)\n",
    "\n",
    "#full options:\n",
    "#pd.boxplot(column=None, by=None, ax=None, fontsize=None, rot=0, grid=True, figsize=None, layout=None, return_type=None, **kwds)[source]"
   ]
  },
  {
   "cell_type": "markdown",
   "metadata": {},
   "source": [
    "Seaborn method, comparative"
   ]
  },
  {
   "cell_type": "code",
   "execution_count": null,
   "metadata": {},
   "outputs": [],
   "source": [
    "fig, ax = plt.subplots(1,1)\n",
    "ax = sns.boxplot(x = df['grouping_var'] == 0, y = df['target_var'])"
   ]
  },
  {
   "cell_type": "markdown",
   "metadata": {},
   "source": [
    "## Faceted graphs (aka multiple graphs) in one go"
   ]
  },
  {
   "cell_type": "code",
   "execution_count": null,
   "metadata": {},
   "outputs": [],
   "source": [
    "#This one is mine\n",
    "\n",
    "g= sns.catplot(\"dept\",\"current\", col=\"company_id\", data=ec, kind=\"bar\", height=2.5, aspect=.8, col_wrap=6) \n",
    "#catplot is generic\n",
    "#we can specify (strip, swarm, box, violin, boxen, point, bar, count)\n",
    "#https://seaborn.pydata.org/generated/seaborn.catplot.html\n",
    "\n",
    "g.set_xticklabels(rotation=30, ha='right')"
   ]
  },
  {
   "cell_type": "code",
   "execution_count": null,
   "metadata": {},
   "outputs": [],
   "source": [
    "# Seniority\n",
    "# whose?\n",
    "\n",
    "fig, axs = plt.subplots(6,1, figsize = (6,20))\n",
    "i = 0\n",
    "for col in set(list(df['dept'])): # get unique dept\n",
    "    df_tmp = df[df['dept'] == col]\n",
    "    sns.distplot(df_tmp[df_tmp['quitters'] == 1]['seniority'], kde=True, rug=False, ax = axs[i], label = \"quit\")\n",
    "    sns.distplot(df_tmp[df_tmp['quitters'] == 0]['seniority'], kde=True, rug=False,\n",
    "                 ax = axs[i], axlabel= col, label = \"No quit\")\n",
    "    i += 1\n",
    "\n",
    "plt.tight_layout()\n",
    "plt.legend()\n",
    "plt.show()"
   ]
  },
  {
   "cell_type": "markdown",
   "metadata": {},
   "source": [
    "## Visualize multiple categories at once!"
   ]
  },
  {
   "cell_type": "code",
   "execution_count": null,
   "metadata": {},
   "outputs": [],
   "source": [
    "#Whitney's, possibly through Michelle\n",
    "\n",
    "features=['f1','f2','f3','f4', 'f5']\n",
    "fig=plt.subplots(figsize=(10,15))\n",
    "\n",
    "for i, j in enumerate(features):\n",
    "    plt.subplot(4, 2, i+1)\n",
    "    plt.subplots_adjust(hspace = 1.0)\n",
    "    sns.countplot(x=j,data = df)\n",
    "    plt.xticks(rotation=90)\n",
    "    plt.title(\"No. of employee\")"
   ]
  },
  {
   "cell_type": "markdown",
   "metadata": {},
   "source": [
    "## Extracting Feature Importance from Sklearn"
   ]
  },
  {
   "cell_type": "code",
   "execution_count": null,
   "metadata": {},
   "outputs": [],
   "source": [
    "#Check feature importance\n",
    "features = Xvars\n",
    "importance = np.std(X_scaled, 0)*classifier.coef_\n",
    "importance_CV = np.std(X_scaled, 0)*clf_CV.coef_\n",
    "\n",
    "print('Feature importance, logistic regression:')\n",
    "for i in range(len(features)):\n",
    "    print(features[i], ':', str(importance[0][i]))\n",
    "print('')\n",
    "print('Feature importance, logistic regression with cross-validation:')\n",
    "for i in range(len(features)):\n",
    "    print(features[i], ':', str(importance_CV[0][i]))"
   ]
  },
  {
   "cell_type": "markdown",
   "metadata": {},
   "source": [
    "## Confusion Matrix Visualization"
   ]
  },
  {
   "cell_type": "code",
   "execution_count": null,
   "metadata": {},
   "outputs": [],
   "source": [
    "from sklearn.metrics import confusion_matrix\n",
    "import matplotlib.pyplot as plt\n",
    "\n",
    "labels = ['label1', 'label2']\n",
    "\n",
    "matrix = confusion_matrix(y_test, test_predict)\n",
    "sns.heatmap(matrix.T, square = True, annot=True, fmt='d',cbar=False, \n",
    "            xticklabels=labels, yticklabels=labels)\n",
    "plt.xlabel(\"Actual Label\")\n",
    "plt.ylabel(\"Predicted Label\")"
   ]
  }
 ],
 "metadata": {
  "kernelspec": {
   "display_name": "Python 3",
   "language": "python",
   "name": "python3"
  },
  "language_info": {
   "codemirror_mode": {
    "name": "ipython",
    "version": 3
   },
   "file_extension": ".py",
   "mimetype": "text/x-python",
   "name": "python",
   "nbconvert_exporter": "python",
   "pygments_lexer": "ipython3",
   "version": "3.7.0"
  }
 },
 "nbformat": 4,
 "nbformat_minor": 2
}
