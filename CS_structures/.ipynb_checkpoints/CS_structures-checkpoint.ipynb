{
 "cells": [
  {
   "cell_type": "markdown",
   "metadata": {},
   "source": [
    "Here I will \n",
    "\n",
    "- Code out sorting algorithms\n",
    "- Code out a linked list\n",
    "- Code out a tree\n",
    "- Code out a graph\n",
    "- SQL to pandas\n",
    "- Traverse a binary search tree in order without using recursion\n",
    "- Write a function which takes a base-10 number and a positive integer k >= 2 and prints out the number in base k.\n",
    "- Find the palindromes (substrings which read the same forward and backward) in a given string"
   ]
  },
  {
   "cell_type": "markdown",
   "metadata": {},
   "source": [
    "## Merge Sort"
   ]
  },
  {
   "cell_type": "code",
   "execution_count": 1,
   "metadata": {},
   "outputs": [],
   "source": [
    "# Merge Sort\n",
    "def mergeSort(alist): # Take in a list\n",
    "    print(\"Splitting \",alist) # Splitting\n",
    "    # As long as the list has more than one element....\n",
    "    if len(alist)>1: \n",
    "        # split the input list\n",
    "        mid = len(alist)//2\n",
    "        lefthalf = alist[:mid]\n",
    "        righthalf = alist[mid:]\n",
    "        # Recursively run the splitting\n",
    "        mergeSort(lefthalf)\n",
    "        mergeSort(righthalf)\n",
    "        print('Here')\n",
    "        i=0\n",
    "        j=0\n",
    "        k=0\n",
    "        while i < len(lefthalf) and j < len(righthalf):\n",
    "            if lefthalf[i] < righthalf[j]:\n",
    "                alist[k]=lefthalf[i]\n",
    "                i=i+1\n",
    "            else:\n",
    "                alist[k]=righthalf[j]\n",
    "                j=j+1\n",
    "            k=k+1\n",
    "\n",
    "        while i < len(lefthalf):\n",
    "            alist[k]=lefthalf[i]\n",
    "            i=i+1\n",
    "            k=k+1\n",
    "\n",
    "        while j < len(righthalf):\n",
    "            alist[k]=righthalf[j]\n",
    "            j=j+1\n",
    "            k=k+1\n",
    "    print(\"Merging \",alist)"
   ]
  },
  {
   "cell_type": "markdown",
   "metadata": {},
   "source": [
    "\n",
    "Once the mergeSort function is invoked on the left half and the right half (lines 8–9), it is assumed they are sorted. The rest of the function (lines 11–31) is responsible for merging the two smaller sorted lists into a larger sorted list. Notice that the merge operation places the items back into the original list (alist) one at a time by repeatedly taking the smallest item from the sorted lists.\n",
    "\n",
    "The mergeSort function has been augmented with a print statement (line 2) to show the contents of the list being sorted at the start of each invocation. There is also a print statement (line 32) to show the merging process. The transcript shows the result of executing the function on our example list. Note that the list with 44, 55, and 20 will not divide evenly. The first split gives [44] and the second gives [55,20]. It is easy to see how the splitting process eventually yields a list that can be immediately merged with other sorted lists."
   ]
  },
  {
   "cell_type": "code",
   "execution_count": 2,
   "metadata": {},
   "outputs": [
    {
     "name": "stdout",
     "output_type": "stream",
     "text": [
      "Splitting  [54, 26, 93, 17, 77, 31, 44, 55, 20]\n",
      "Splitting  [54, 26, 93, 17]\n",
      "Splitting  [54, 26]\n",
      "Splitting  [54]\n",
      "Merging  [54]\n",
      "Splitting  [26]\n",
      "Merging  [26]\n",
      "Here\n",
      "Merging  [26, 54]\n",
      "Splitting  [93, 17]\n",
      "Splitting  [93]\n",
      "Merging  [93]\n",
      "Splitting  [17]\n",
      "Merging  [17]\n",
      "Here\n",
      "Merging  [17, 93]\n",
      "Here\n",
      "Merging  [17, 26, 54, 93]\n",
      "Splitting  [77, 31, 44, 55, 20]\n",
      "Splitting  [77, 31]\n",
      "Splitting  [77]\n",
      "Merging  [77]\n",
      "Splitting  [31]\n",
      "Merging  [31]\n",
      "Here\n",
      "Merging  [31, 77]\n",
      "Splitting  [44, 55, 20]\n",
      "Splitting  [44]\n",
      "Merging  [44]\n",
      "Splitting  [55, 20]\n",
      "Splitting  [55]\n",
      "Merging  [55]\n",
      "Splitting  [20]\n",
      "Merging  [20]\n",
      "Here\n",
      "Merging  [20, 55]\n",
      "Here\n",
      "Merging  [20, 44, 55]\n",
      "Here\n",
      "Merging  [20, 31, 44, 55, 77]\n",
      "Here\n",
      "Merging  [17, 20, 26, 31, 44, 54, 55, 77, 93]\n",
      "[17, 20, 26, 31, 44, 54, 55, 77, 93]\n"
     ]
    }
   ],
   "source": [
    "alist = [54,26,93,17,77,31,44,55,20]\n",
    "mergeSort(alist)\n",
    "print(alist)"
   ]
  },
  {
   "cell_type": "markdown",
   "metadata": {},
   "source": [
    "## Linked List\n",
    "\n",
    "https://www.tutorialspoint.com/python/python_linked_lists.htm\n",
    "\n",
    "https://medium.freecodecamp.org/python-interview-question-guide-how-to-code-a-linked-list-fd77cbbd367d\n",
    "\n",
    "https://www.youtube.com/watch?v=6sBsF13n5ig"
   ]
  },
  {
   "cell_type": "code",
   "execution_count": 3,
   "metadata": {},
   "outputs": [],
   "source": [
    "# Nodes\n",
    "# 1. Value -- Anything srings, integers, objects, etc.\n",
    "# 2. Pointer to the next node\n",
    "\n",
    "class linkedListNode:\n",
    "    def __init__(self, value, nextNode = None): # Set nextnode to none initially, manually set it later\n",
    "        self.value = value # set the value of the node\n",
    "        self.nextNode = nextNode # set up the pointer, initially points to nothing"
   ]
  },
  {
   "cell_type": "code",
   "execution_count": 4,
   "metadata": {},
   "outputs": [],
   "source": [
    "# 3 -> 7 -> 10\n",
    "node1 = linkedListNode(\"3\")\n",
    "node2 = linkedListNode(\"7\")\n",
    "node3 = linkedListNode(\"10\")\n",
    "node4 = linkedListNode(\"77\")\n",
    "\n",
    "node1.nextNode = node2 # node1 -> node2\n",
    "node2.nextNode = node3 # node2 -> node3\n",
    "node3.nextNode = node4"
   ]
  },
  {
   "cell_type": "code",
   "execution_count": 5,
   "metadata": {},
   "outputs": [
    {
     "name": "stdout",
     "output_type": "stream",
     "text": [
      "3 ->\n",
      "7 ->\n",
      "10 ->\n",
      "77 ->\n",
      "None\n"
     ]
    }
   ],
   "source": [
    "# Print it out\n",
    "currentNode = node1\n",
    "while True:\n",
    "    print(currentNode.value, '->')\n",
    "    if currentNode.nextNode is None:\n",
    "        print('None')\n",
    "        break\n",
    "    currentNode = currentNode.nextNode"
   ]
  },
  {
   "cell_type": "markdown",
   "metadata": {},
   "source": [
    "**Upgraded LinkedList**"
   ]
  },
  {
   "cell_type": "code",
   "execution_count": 57,
   "metadata": {},
   "outputs": [],
   "source": [
    "class linkedListNode:\n",
    "    def __init__(self, value, nextNode = None): # Set nextnode to none initially, manually set it later\n",
    "        self.value = value # set the value of the node\n",
    "        self.nextNode = nextNode # set up the pointer, initially points to nothing\n",
    "        \n",
    "class linkedList:\n",
    "    # upon instantiation, set a head attribute\n",
    "    def __init__(self, head = None): \n",
    "        self.head = head\n",
    "    \n",
    "    # insert method sets a value to the next available node\n",
    "    def insert(self, value):\n",
    "        node = linkedListNode(value)\n",
    "        if self.head is None: # if we're inserting the first time, just set the head, no need to point\n",
    "            self.head = node\n",
    "            return\n",
    "        \n",
    "        # If there are nodes currently, set the value to \"Next node\"\n",
    "        currentNode = self.head\n",
    "        while True:\n",
    "            # Traverse the node until the end\n",
    "            if currentNode.nextNode is None:\n",
    "                # insert the new node at the tail\n",
    "                currentNode.nextNode = node\n",
    "                break\n",
    "            # set the pointer to the one you just added\n",
    "            currentNode = currentNode.nextNode\n",
    "            \n",
    "    def deleteNode(self, valueToDelete):\n",
    "        # start at the beginning of the linked list\n",
    "        currentNode = self.head\n",
    "        previousNode = None\n",
    "        # iterate through until you reach the end of the list\n",
    "        while currentNode is not None:\n",
    "            # If the node value is the designated value\n",
    "            if currentNode.value == valueToDelete:\n",
    "                # If it is the head node, reset the head\n",
    "                if previousNode is None: \n",
    "                    # Set new head\n",
    "                    newHead = currentNode.nextNode\n",
    "                    currentNode.nextNode = None\n",
    "                    return newHead # Deleted the head\n",
    "                # set next node\n",
    "                previousNode.nextNode = currentNode.nextNode\n",
    "                return self.head\n",
    "            previousNode = currentNode\n",
    "            currentNode = currentNode.nextNode\n",
    "        return head # Value to delete was not found.\n",
    "\n",
    "    def printLinkedList(self):\n",
    "        currentNode = self.head\n",
    "        while currentNode is not None:\n",
    "            print(currentNode.value, '->')\n",
    "            currentNode = currentNode.nextNode\n",
    "        print('Done')"
   ]
  },
  {
   "cell_type": "code",
   "execution_count": 58,
   "metadata": {},
   "outputs": [
    {
     "name": "stdout",
     "output_type": "stream",
     "text": [
      "Done\n",
      "3 ->\n",
      "Done\n",
      "3 ->\n",
      "55 ->\n",
      "Done\n",
      "3 ->\n",
      "13 ->\n",
      "Done\n"
     ]
    }
   ],
   "source": [
    "ll = linkedList()\n",
    "ll.printLinkedList()\n",
    "ll.insert(\"3\")\n",
    "ll.printLinkedList()\n",
    "ll.insert(\"55\")\n",
    "ll.printLinkedList()\n",
    "ll.insert(\"13\")\n",
    "ll.deleteNode(\"55\")\n",
    "ll.printLinkedList()"
   ]
  },
  {
   "cell_type": "markdown",
   "metadata": {},
   "source": [
    "## Tree Structure"
   ]
  },
  {
   "cell_type": "code",
   "execution_count": 59,
   "metadata": {},
   "outputs": [],
   "source": [
    "class BinarySearchTree:\n",
    "\n",
    "    def __init__(self):\n",
    "        self.root = None\n",
    "        self.size = 0\n",
    "\n",
    "    def length(self):\n",
    "        return self.size\n",
    "\n",
    "    def __len__(self):\n",
    "        return self.size\n",
    "\n",
    "    def __iter__(self):\n",
    "        return self.root.__iter__()"
   ]
  },
  {
   "cell_type": "code",
   "execution_count": 61,
   "metadata": {},
   "outputs": [],
   "source": [
    "class TreeNode:\n",
    "    def __init__(self,key,val,left=None,right=None,\n",
    "                                       parent=None):\n",
    "        self.key = key\n",
    "        self.payload = val\n",
    "        self.leftChild = left\n",
    "        self.rightChild = right\n",
    "        self.parent = parent\n",
    "\n",
    "    def hasLeftChild(self):\n",
    "        return self.leftChild\n",
    "\n",
    "    def hasRightChild(self):\n",
    "        return self.rightChild\n",
    "\n",
    "    def isLeftChild(self):\n",
    "        return self.parent and self.parent.leftChild == self\n",
    "\n",
    "    def isRightChild(self):\n",
    "        return self.parent and self.parent.rightChild == self\n",
    "\n",
    "    def isRoot(self):\n",
    "        return not self.parent\n",
    "\n",
    "    def isLeaf(self):\n",
    "        return not (self.rightChild or self.leftChild)\n",
    "\n",
    "    def hasAnyChildren(self):\n",
    "        return self.rightChild or self.leftChild\n",
    "\n",
    "    def hasBothChildren(self):\n",
    "        return self.rightChild and self.leftChild\n",
    "\n",
    "    def replaceNodeData(self,key,value,lc,rc):\n",
    "        self.key = key\n",
    "        self.payload = value\n",
    "        self.leftChild = lc\n",
    "        self.rightChild = rc\n",
    "        if self.hasLeftChild():\n",
    "            self.leftChild.parent = self\n",
    "        if self.hasRightChild():\n",
    "            self.rightChild.parent = self"
   ]
  },
  {
   "cell_type": "code",
   "execution_count": null,
   "metadata": {},
   "outputs": [],
   "source": []
  }
 ],
 "metadata": {
  "kernelspec": {
   "display_name": "Python 3",
   "language": "python",
   "name": "python3"
  },
  "language_info": {
   "codemirror_mode": {
    "name": "ipython",
    "version": 3
   },
   "file_extension": ".py",
   "mimetype": "text/x-python",
   "name": "python",
   "nbconvert_exporter": "python",
   "pygments_lexer": "ipython3",
   "version": "3.6.5"
  }
 },
 "nbformat": 4,
 "nbformat_minor": 2
}
