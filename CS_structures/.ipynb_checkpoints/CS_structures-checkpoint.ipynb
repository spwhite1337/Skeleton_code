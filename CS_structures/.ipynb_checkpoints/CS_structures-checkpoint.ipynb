{
 "cells": [
  {
   "cell_type": "markdown",
   "metadata": {},
   "source": [
    "Here I will \n",
    "\n",
    "- Code out sorting algorithms\n",
    "- Code out a linked list\n",
    "- Code out a tree\n",
    "- Code out a graph\n",
    "- SQL to pandas\n",
    "- Traverse a binary search tree in order without using recursion\n",
    "- Write a function which takes a base-10 number and a positive integer k >= 2 and prints out the number in base k.\n",
    "- Find the palindromes (substrings which read the same forward and backward) in a given string"
   ]
  }
 ],
 "metadata": {
  "kernelspec": {
   "display_name": "Python 3",
   "language": "python",
   "name": "python3"
  },
  "language_info": {
   "codemirror_mode": {
    "name": "ipython",
    "version": 3
   },
   "file_extension": ".py",
   "mimetype": "text/x-python",
   "name": "python",
   "nbconvert_exporter": "python",
   "pygments_lexer": "ipython3",
   "version": "3.6.5"
  }
 },
 "nbformat": 4,
 "nbformat_minor": 2
}
